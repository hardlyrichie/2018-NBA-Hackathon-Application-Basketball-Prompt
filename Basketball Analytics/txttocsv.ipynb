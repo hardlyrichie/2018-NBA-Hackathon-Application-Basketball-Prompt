{
 "cells": [
  {
   "cell_type": "code",
   "execution_count": 59,
   "metadata": {},
   "outputs": [
    {
     "name": "stdout",
     "output_type": "stream",
     "text": [
      "OUTPUT Folder: CSV\n"
     ]
    }
   ],
   "source": [
    "import csv\n",
    "import fileinput\n",
    "import csv\n",
    "import glob\n",
    "import os\n",
    "import pandas as pd\n",
    "directory = os.getcwd()\n",
    "\n",
    "#outputs to a folder\n",
    "output = input(\"OUTPUT Folder: \")\n",
    "output = os.path.join(os.getcwd(),output)\n",
    "\n",
    "#create the folder if none exist\n",
    "if not os.path.exists(output):\n",
    "    os.makedirs(output)\n",
    "\n",
    "#finds all text files to convert\n",
    "txt_files = os.path.join(directory, '*.txt')\n",
    "\n",
    "for txt_file in glob.glob(txt_files):\n",
    "    with open(txt_file, \"r\") as input_file:\n",
    "        in_txt = csv.reader(input_file, delimiter = '\\t')\n",
    "        filename = os.path.splitext(os.path.basename(txt_file))[0] + '.csv'\n",
    "        \n",
    "        #strips whitespace\n",
    "        aList=[]\n",
    "        for row in in_txt:\n",
    "            aList.append([cell.rstrip() for cell in row])\n",
    "        \n",
    "        with open(os.path.join(output, filename), 'w') as output_file:\n",
    "            out_csv = csv.writer(output_file)\n",
    "            out_csv.writerows(aList)\n",
    "\n",
    "df = pd.read_csv('csv/NBA Hackathon - Event Codes.csv')\n",
    "df2 = pd.read_csv('csv/NBA Hackathon - Play by Play Data Sample (50 Games).csv')\n",
    "\n",
    "output = pd.merge(df,df2,on=['Event_Msg_Type','Action_Type'])\n",
    "\n",
    "removeFromList = ['Jump Ball', 'Missed Shot', 'Rebound', 'Timeout','Turnover','Violation']\n",
    "for event in removeFromList:\n",
    "    output=output[output['Event_Msg_Type_Description']!= event]\n",
    "output.reset_index(drop=True, inplace = True)\n",
    "\n",
    "\n",
    "df = pd.read_csv('csv/NBA Hackathon - Game Lineup Data Sample (50 Games).csv')\n",
    "df = df[['Game_id','Person_id','Team_id']]\n",
    "df2 = output\n",
    "# df2.drop('Unnamed: 0', axis = 1, inplace=True)\n",
    "df_p1 = df.drop_duplicates()\n",
    "df_p2 = df_p1.copy()\n",
    "df_p1.columns = ['Game_id','Person1','Team_id_check']\n",
    "df_p2.columns = ['Game_id','Person2','Team_id_check2']\n",
    "output = pd.merge(df_p1,df2,on=['Game_id','Person1'],how = 'outer')\n",
    "output = pd.merge(df_p2,output,on=['Game_id','Person2'],how = 'outer')\n",
    "output = output.sort_values(by=['Game_id','Event_Num'])\n",
    "pd.options.display.float_format = '{:,.0f}'.format\n",
    "\n",
    "\n",
    "for index,series in output.iterrows():\n",
    "        if pd.isnull(series['Team_id_check']) and series['Event_Msg_Type'] == 8:\n",
    "            output.loc[index, 'Team_id_check'] = series['Team_id_check2']\n",
    "        if pd.isnull(series['Team_id_check']) and series['Event_Msg_Type'] == 1:\n",
    "            output.loc[index, 'Team_id_check'] = series['Team_id']\n",
    "        if pd.isnull(series['Team_id_check']) and series['Event_Msg_Type'] == 6:\n",
    "            output.loc[index, 'Team_id_check'] = series['Team_id']\n",
    "        if pd.isnull(series['Team_id_check']) and series['Event_Msg_Type'] == 3:\n",
    "            output.loc[index, 'Team_id_check'] = series['Team_id']\n",
    "        if pd.isnull(series['Team_id_check']) and series['Event_Msg_Type'] == 8:\n",
    "            output.loc[index, 'Team_id_check'] = series['Team_id']\n",
    "colsOrder = ['Game_id','Event_Num','Event_Msg_Type','Period','WC_Time','PC_Time','Action_Type','Option1','Option2','Option3','Team_id','Person1',\\\n",
    "             'Person2','Team_id_type', 'Event_Msg_Type_Description', 'Action_Type_Description','Team_id_check','Team_id_check2']\n",
    "floats = ['Event_Num','Event_Msg_Type','Period','WC_Time','PC_Time','Action_Type','Option1','Option2','Option3','Team_id_type']\n",
    "output=output[colsOrder]\n",
    "output.dropna(subset=['Event_Num'],inplace=True)\n",
    "output[floats] = output[floats].astype(int)\n",
    "output.reset_index(drop=True).to_csv('data.csv')\n"
   ]
  },
  {
   "cell_type": "code",
   "execution_count": null,
   "metadata": {
    "scrolled": true
   },
   "outputs": [],
   "source": [
    "'Event_Num','Event_Msg_Type','Period','WC_Time','PC_Time','Action_Type','Option1','Option2','Option3','Team_id_type'"
   ]
  },
  {
   "cell_type": "code",
   "execution_count": null,
   "metadata": {},
   "outputs": [],
   "source": []
  },
  {
   "cell_type": "code",
   "execution_count": null,
   "metadata": {},
   "outputs": [],
   "source": []
  }
 ],
 "metadata": {
  "kernelspec": {
   "display_name": "Python 3",
   "language": "python",
   "name": "python3"
  }
 },
 "nbformat": 4,
 "nbformat_minor": 2
}
