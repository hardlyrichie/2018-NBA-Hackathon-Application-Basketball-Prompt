{
 "cells": [
  {
   "cell_type": "code",
   "execution_count": 1,
   "metadata": {
    "collapsed": true
   },
   "outputs": [],
   "source": [
    "import pandas as pd\n",
    "import numpy as np\n",
    "import csv"
   ]
  },
  {
   "cell_type": "code",
   "execution_count": 2,
   "metadata": {
    "collapsed": true
   },
   "outputs": [],
   "source": [
    "results = pd.read_csv('training_set.csv')"
   ]
  },
  {
   "cell_type": "code",
   "execution_count": 3,
   "metadata": {
    "collapsed": true
   },
   "outputs": [],
   "source": [
    "# print(results)"
   ]
  },
  {
   "cell_type": "code",
   "execution_count": 4,
   "metadata": {
    "collapsed": true
   },
   "outputs": [],
   "source": [
    "games = results[\"Game_ID\"]\n",
    "game_dict = dict()\n",
    "for game in games:\n",
    "    if game not in game_dict:\n",
    "        game_dict[game]=[0]"
   ]
  },
  {
   "cell_type": "code",
   "execution_count": 5,
   "metadata": {
    "collapsed": true
   },
   "outputs": [],
   "source": [
    "# print(game_dict)"
   ]
  },
  {
   "cell_type": "code",
   "execution_count": 6,
   "metadata": {
    "collapsed": true
   },
   "outputs": [],
   "source": [
    "views = results[\"Rounded Viewers\"]\n",
    "for (i,view) in views.items():\n",
    "    (game_dict[games[i]])[0]+=view\n",
    "    \n",
    "    \n"
   ]
  },
  {
   "cell_type": "code",
   "execution_count": 7,
   "metadata": {
    "collapsed": true
   },
   "outputs": [],
   "source": [
    "# print(game_dict)"
   ]
  },
  {
   "cell_type": "code",
   "execution_count": 8,
   "metadata": {
    "collapsed": true
   },
   "outputs": [],
   "source": [
    "sum = 0\n",
    "for value in game_dict.values():\n",
    "    sum += value[0]\n",
    "    \n",
    "avg = sum / len(game_dict)"
   ]
  },
  {
   "cell_type": "code",
   "execution_count": 9,
   "metadata": {
    "collapsed": true
   },
   "outputs": [],
   "source": [
    "# print(avg)"
   ]
  },
  {
   "cell_type": "code",
   "execution_count": 10,
   "metadata": {
    "collapsed": true
   },
   "outputs": [],
   "source": [
    "# d=pd.DataFrame.from_dict(game_dict, orient='index', columns=[\"Total Views\"])\n",
    "# d.to_csv(\"data.csv\")\n"
   ]
  },
  {
   "cell_type": "code",
   "execution_count": 11,
   "metadata": {
    "collapsed": true
   },
   "outputs": [],
   "source": [
    "away_teams = results[\"Away_Team\"]\n",
    "home_teams = results[\"Home_Team\"]\n",
    "for (i,a) in away_teams.items():\n",
    "    if (len(game_dict[games[i]]) == 1):\n",
    "        game_dict[games[i]].append(a)\n",
    "for (i,h) in home_teams.items():\n",
    "    if (len(game_dict[games[i]]) == 2):\n",
    "        game_dict[games[i]].append(h)\n"
   ]
  },
  {
   "cell_type": "code",
   "execution_count": 12,
   "metadata": {
    "collapsed": true
   },
   "outputs": [],
   "source": [
    "# d=pd.DataFrame.from_dict(game_dict, orient='index', columns=[\"Total Views\", \"Away Team\", \"Home Team\"])\n",
    "# d.to_csv(\"data.csv\")"
   ]
  },
  {
   "cell_type": "code",
   "execution_count": 13,
   "metadata": {
    "collapsed": true
   },
   "outputs": [],
   "source": [
    "dates = results[\"Game_Date\"]\n",
    "for (i,date) in dates.items():\n",
    "    if (len(game_dict[games[i]]) == 3):\n",
    "        game_dict[games[i]].append(date)\n",
    "        j = 0;\n",
    "        month = \"\"\n",
    "        while date[j] != '/':\n",
    "            month+=(date[j])\n",
    "            j+=1\n",
    "        game_dict[games[i]].append(month)"
   ]
  },
  {
   "cell_type": "code",
   "execution_count": 14,
   "metadata": {
    "collapsed": true
   },
   "outputs": [],
   "source": [
    "# d=pd.DataFrame.from_dict(game_dict, orient='index', columns=[\"Total Views\", \"Away Team\", \"Home Team\", \"Date\", \"Month\"])\n",
    "# d.to_csv(\"data.csv\")"
   ]
  },
  {
   "cell_type": "code",
   "execution_count": 15,
   "metadata": {
    "collapsed": true
   },
   "outputs": [],
   "source": [
    "team_popularity = dict(); games_played = dict();\n",
    "for value in game_dict.values():\n",
    "    if value[1] not in team_popularity:\n",
    "        team_popularity[value[1]] = value[0]\n",
    "        games_played[value[1]]= 1\n",
    "    else:\n",
    "        team_popularity[value[1]] += value[0]\n",
    "        games_played[value[1]] += 1\n",
    "    if value[2] not in team_popularity:\n",
    "        team_popularity[value[2]] = value[0]\n",
    "        games_played[value[2]]= 1\n",
    "    else:\n",
    "        team_popularity[value[2]] += value[0]\n",
    "        games_played[value[2]] += 1\n",
    "    \n",
    "for key in team_popularity.keys():\n",
    "    team_popularity[key] = team_popularity[key] / games_played[key]\n",
    "    "
   ]
  },
  {
   "cell_type": "code",
   "execution_count": 16,
   "metadata": {
    "collapsed": true
   },
   "outputs": [],
   "source": [
    "# print(team_popularity)"
   ]
  },
  {
   "cell_type": "code",
   "execution_count": 17,
   "metadata": {
    "collapsed": true
   },
   "outputs": [],
   "source": [
    "# print(team_popularity)"
   ]
  },
  {
   "cell_type": "code",
   "execution_count": 18,
   "metadata": {
    "collapsed": true
   },
   "outputs": [],
   "source": [
    "team_of_mean = team_popularity.copy()\n",
    "for key in team_of_mean.keys():\n",
    "    team_of_mean[key] = team_popularity[key] / avg"
   ]
  },
  {
   "cell_type": "code",
   "execution_count": 19,
   "metadata": {
    "collapsed": true
   },
   "outputs": [],
   "source": [
    "# print(team_of_mean)"
   ]
  },
  {
   "cell_type": "code",
   "execution_count": 20,
   "metadata": {
    "collapsed": true
   },
   "outputs": [],
   "source": [
    "results = pd.read_csv('data.csv')\n",
    "dates = results[\"Date\"]\n",
    "months = results[\"Month\"]"
   ]
  },
  {
   "cell_type": "code",
   "execution_count": 21,
   "metadata": {
    "collapsed": true
   },
   "outputs": [],
   "source": [
    "# print(dates)"
   ]
  },
  {
   "cell_type": "code",
   "execution_count": 22,
   "metadata": {
    "collapsed": true
   },
   "outputs": [],
   "source": [
    "# print(months)"
   ]
  },
  {
   "cell_type": "code",
   "execution_count": 23,
   "metadata": {
    "collapsed": true
   },
   "outputs": [],
   "source": [
    "# print(game_dict)"
   ]
  },
  {
   "cell_type": "code",
   "execution_count": 24,
   "metadata": {
    "collapsed": true
   },
   "outputs": [],
   "source": [
    "month_popularity = dict(); month_games = dict();"
   ]
  },
  {
   "cell_type": "code",
   "execution_count": 25,
   "metadata": {
    "collapsed": true
   },
   "outputs": [],
   "source": [
    "month_popularity = dict(); month_games = dict();\n",
    "for value in game_dict.values():\n",
    "    if value[4] not in month_popularity:\n",
    "        month_popularity[value[4]] = value[0]\n",
    "        month_games[value[4]]= 1\n",
    "    else:\n",
    "        month_popularity[value[4]] += value[0]\n",
    "        month_games[value[4]] += 1\n",
    "for key in month_popularity.keys():\n",
    "    month_popularity[key] = month_popularity[key] / month_games[key]"
   ]
  },
  {
   "cell_type": "code",
   "execution_count": 26,
   "metadata": {
    "collapsed": true
   },
   "outputs": [],
   "source": [
    "# print(month_popularity)"
   ]
  },
  {
   "cell_type": "code",
   "execution_count": 27,
   "metadata": {
    "collapsed": true
   },
   "outputs": [],
   "source": [
    "month_of_mean = month_popularity.copy()\n",
    "for key in month_of_mean.keys():\n",
    "    month_of_mean[key] = month_popularity[key] / avg"
   ]
  },
  {
   "cell_type": "code",
   "execution_count": 28,
   "metadata": {
    "collapsed": true
   },
   "outputs": [],
   "source": [
    "# print(month_of_mean)"
   ]
  },
  {
   "cell_type": "code",
   "execution_count": 29,
   "metadata": {
    "collapsed": true
   },
   "outputs": [],
   "source": [
    "# print(team_of_mean)"
   ]
  },
  {
   "cell_type": "code",
   "execution_count": 30,
   "metadata": {
    "collapsed": true
   },
   "outputs": [],
   "source": [
    "# print(avg)"
   ]
  },
  {
   "cell_type": "code",
   "execution_count": 31,
   "metadata": {
    "collapsed": true
   },
   "outputs": [],
   "source": [
    "# for value in game_dict.values():\n",
    "#     max_team_pop = max(team_of_mean[value[1]],team_of_mean[value[2]])\n",
    "#     month_pop = month_of_mean[value[4]]\n",
    "#     guess = avg*max_team_pop*month_pop\n",
    "#     value.append(guess)"
   ]
  },
  {
   "cell_type": "code",
   "execution_count": 32,
   "metadata": {
    "collapsed": true
   },
   "outputs": [],
   "source": [
    "# print(game_dict)"
   ]
  },
  {
   "cell_type": "code",
   "execution_count": 33,
   "metadata": {
    "collapsed": true
   },
   "outputs": [],
   "source": [
    "# d=pd.DataFrame.from_dict(game_dict, orient='index', columns=[\"Total Views\", \"Away Team\", \"Home Team\", \"Date\", \"Month\", \"Guess\"])\n",
    "# d.to_csv(\"data.csv\")"
   ]
  },
  {
   "cell_type": "code",
   "execution_count": 34,
   "metadata": {
    "collapsed": true
   },
   "outputs": [],
   "source": [
    "game_data = pd.read_csv('game_data.csv')\n",
    "player_data = pd.read_csv('player_data.csv') "
   ]
  },
  {
   "cell_type": "code",
   "execution_count": 35,
   "metadata": {
    "collapsed": true
   },
   "outputs": [],
   "source": [
    "# print(player_data)"
   ]
  },
  {
   "cell_type": "code",
   "execution_count": 36,
   "metadata": {
    "collapsed": true
   },
   "outputs": [],
   "source": [
    "as_status =player_data[\"ASG_Team\"]\n",
    "allgames = player_data[\"Game_ID\"]\n",
    "as_dict = dict()\n",
    "for i in range(len(allgames)):\n",
    "    if as_status[i] != \"None\":\n",
    "        if allgames[i] not in as_dict:\n",
    "            as_dict[allgames[i]] = 1\n",
    "        else:\n",
    "            as_dict[allgames[i]] += 1\n",
    "    else:\n",
    "        if allgames[i] not in as_dict:\n",
    "            as_dict[allgames[i]] = 0"
   ]
  },
  {
   "cell_type": "code",
   "execution_count": 37,
   "metadata": {
    "collapsed": true
   },
   "outputs": [],
   "source": [
    "# print(as_dict)"
   ]
  },
  {
   "cell_type": "code",
   "execution_count": 38,
   "metadata": {
    "collapsed": true
   },
   "outputs": [],
   "source": [
    "for key in game_dict:\n",
    "    game_dict[key].append(as_dict[key])"
   ]
  },
  {
   "cell_type": "code",
   "execution_count": 39,
   "metadata": {
    "collapsed": true
   },
   "outputs": [],
   "source": [
    "# d=pd.DataFrame.from_dict(game_dict, orient='index', columns=[\"Total Views\", \"Away Team\", \"Home Team\", \"Date\", \"Month\",  \"All Star\"])\n",
    "# d.to_csv(\"data.csv\")"
   ]
  },
  {
   "cell_type": "code",
   "execution_count": 40,
   "metadata": {},
   "outputs": [],
   "source": [
    "as_popularity = dict(); as_games = dict();\n",
    "for value in game_dict.values():\n",
    "    if value[5] not in as_popularity:\n",
    "        as_popularity[value[5]] = value[0]\n",
    "        as_games[value[5]]= 1\n",
    "    else:\n",
    "        as_popularity[value[5]] += value[0]\n",
    "        as_games[value[5]] += 1\n",
    "for key in as_popularity.keys():\n",
    "    as_popularity[key] = as_popularity[key] / as_games[key]\n",
    "as_of_mean = as_popularity.copy()\n",
    "for key in as_of_mean.keys():\n",
    "    as_of_mean[key] = as_popularity[key] / avg"
   ]
  },
  {
   "cell_type": "code",
   "execution_count": 41,
   "metadata": {},
   "outputs": [],
   "source": [
    "# print(as_of_mean)"
   ]
  },
  {
   "cell_type": "code",
   "execution_count": 42,
   "metadata": {},
   "outputs": [],
   "source": [
    "wins = game_data[\"Wins_Entering_Gm\"]\n",
    "wingames = game_data[\"Game_ID\"]\n",
    "win_dict = dict()\n",
    "win_diff_dict = dict()\n",
    "temp = 0;\n",
    "for i in range(len(wingames)):\n",
    "    if wingames[i] not in win_dict:\n",
    "        win_dict[wingames[i]] = wins[i]\n",
    "        temp = wins[i]\n",
    "    else:\n",
    "        win_dict[wingames[i]] += wins[i]\n",
    "        win_diff_dict[wingames[i]] = abs(temp-wins[i])\n"
   ]
  },
  {
   "cell_type": "code",
   "execution_count": 43,
   "metadata": {},
   "outputs": [],
   "source": [
    "# print(win_dict)\n",
    "# print(win_diff_dict)"
   ]
  },
  {
   "cell_type": "code",
   "execution_count": 44,
   "metadata": {},
   "outputs": [],
   "source": [
    "for key in game_dict:\n",
    "    game_dict[key].append(win_dict[key])\n",
    "    game_dict[key].append(win_diff_dict[key])"
   ]
  },
  {
   "cell_type": "code",
   "execution_count": 45,
   "metadata": {},
   "outputs": [],
   "source": [
    "d=pd.DataFrame.from_dict(game_dict, orient='index', columns=[\"Total Views\", \"Away Team\", \"Home Team\", \"Date\", \"Month\",  \"All Star\", \"Wins\",\"Win Difference\"])\n",
    "d.to_csv(\"data.csv\")"
   ]
  },
  {
   "cell_type": "code",
   "execution_count": 46,
   "metadata": {
    "collapsed": true
   },
   "outputs": [],
   "source": [
    "test_set = pd.read_csv('test_set.csv')"
   ]
  },
  {
   "cell_type": "code",
   "execution_count": 47,
   "metadata": {},
   "outputs": [
    {
     "name": "stdout",
     "output_type": "stream",
     "text": [
      "16967.7095\n",
      "\n",
      "\n",
      "{'NYK': 1.0591794326077606, 'CLE': 2.0478797952878875, 'SAS': 1.1596239176953071, 'GSW': 2.037775478943765, 'UTA': 0.7655487439628886, 'POR': 0.90016459459561, 'BKN': 0.7565103623453421, 'BOS': 1.3511694079863872, 'CHA': 0.7753086884487972, 'MIL': 0.9276899223931018, 'DAL': 0.7357088812513799, 'IND': 0.7952932213877238, 'DET': 0.7737075799503436, 'TOR': 0.9850169826627742, 'HOU': 1.170960990693878, 'LAL': 1.2678199140549877, 'MIA': 0.8525189636024272, 'ORL': 0.7240133281446712, 'MIN': 0.9912241201269993, 'MEM': 0.6601688840885592, 'OKC': 1.5209534496271457, 'PHI': 1.1550527783375828, 'SAC': 0.7212402743308078, 'PHX': 0.7175105720017843, 'CHI': 0.9537035073885488, 'LAC': 0.9264776072781493, 'WAS': 0.9039756991845911, 'ATL': 0.7561728604895922, 'NOP': 0.8978552729969518, 'DEN': 0.7408238179309549}\n",
      "\n",
      "\n",
      "{'10': 1.5840653465879564, '11': 1.1569845305560138, '12': 0.9523623096026163, '1': 1.0020121638665107, '2': 0.9071621365000718, '3': 0.8420165293092188, '4': 0.8067799482427367}\n",
      "\n",
      "\n",
      "{4: 1.7838069455135093, 5: 2.109819242249521, 1: 0.7738234842240872, 2: 0.9518648475338534, 0: 0.6385828163370103, 3: 1.2818256683154703, 6: 2.59969286563595, 7: 4.092125693217461}\n"
     ]
    }
   ],
   "source": [
    "print(avg)\n",
    "print(\"\\n\")\n",
    "print(team_of_mean)\n",
    "print(\"\\n\")\n",
    "print(month_of_mean)\n",
    "print(\"\\n\")\n",
    "print(as_of_mean)"
   ]
  },
  {
   "cell_type": "code",
   "execution_count": 48,
   "metadata": {},
   "outputs": [],
   "source": [
    "test_season = test_set[\"Season\"]\n",
    "test_game_ids = test_set[\"Game_ID\"]\n",
    "test_game_dates = test_set[\"Game_Date\"]\n",
    "test_away = test_set[\"Away_Team\"]\n",
    "test_home = test_set[\"Home_Team\"]"
   ]
  },
  {
   "cell_type": "code",
   "execution_count": 49,
   "metadata": {},
   "outputs": [],
   "source": [
    "test_rounded_viewers = [];\n",
    "for i in range(len(test_season)):\n",
    "    guess = avg\n",
    "    away_team_pop = team_of_mean[test_away[i]]\n",
    "    home_team_pop = team_of_mean[test_home[i]]\n",
    "    as_num = as_dict[test_game_ids[i]]\n",
    "    as_pop = as_of_mean[as_num]\n",
    "    tot_wins = win_dict[test_game_ids[i]]\n",
    "    win_dif = win_diff_dict[test_game_ids[i]]\n",
    "    date = test_game_dates[i]\n",
    "    month = \"\"\n",
    "    j = 0\n",
    "    while date[j] != '/':\n",
    "        month+=(date[j])\n",
    "        j+=1\n",
    "    guess = avg * away_team_pop * home_team_pop * month_of_mean[month] \n",
    "    if (month == \"4\" and tot_wins>80 and win_dif < 10):\n",
    "        guess *= 2\n",
    "    if (win_dif >10):\n",
    "        guess *= .7\n",
    "    test_rounded_viewers.append(guess)\n",
    "    \n",
    "    "
   ]
  },
  {
   "cell_type": "code",
   "execution_count": 50,
   "metadata": {},
   "outputs": [],
   "source": [
    "# print(test_rounded_viewers)"
   ]
  },
  {
   "cell_type": "code",
   "execution_count": 51,
   "metadata": {},
   "outputs": [],
   "source": [
    "train_guess = []\n",
    "for key in game_dict:\n",
    "    value = game_dict[key]\n",
    "    away_team = value[1]\n",
    "    home_team = value[2]\n",
    "    away_team_pop = team_of_mean[away_team]\n",
    "    home_team_pop = team_of_mean[home_team]\n",
    "    date = value[3]\n",
    "    month = value[4]\n",
    "    as_num = value[5]\n",
    "    as_pop = as_of_mean[as_num]\n",
    "    tot_wins = value[6]\n",
    "    win_dif = value[7]\n",
    "    guess = avg * away_team_pop * home_team_pop * month_of_mean[month]\n",
    "    if (month == \"4\" and tot_wins>80 and win_dif < 10):\n",
    "        guess *= 2\n",
    "    if (win_dif >15):\n",
    "        guess *= .70\n",
    "    value.append(guess)\n",
    "    train_guess.append(guess)\n",
    "    value.append(abs((value[0]-guess)/value[0]))\n",
    "    \n",
    "    "
   ]
  },
  {
   "cell_type": "code",
   "execution_count": 52,
   "metadata": {},
   "outputs": [],
   "source": [
    "d=pd.DataFrame.from_dict(game_dict, orient='index', columns=[\"Total Views\", \"Away Team\", \"Home Team\", \"Date\", \"Month\",  \"All Star\", \"Wins\",\"Win Difference\", \"Guess\", \"MAPE\"])\n",
    "d.to_csv(\"data.csv\")"
   ]
  },
  {
   "cell_type": "code",
   "execution_count": 53,
   "metadata": {},
   "outputs": [],
   "source": [
    "final = dict()\n",
    "for i in range(len(test_rounded_viewers)):\n",
    "    final[i] = [test_season[i], test_game_ids[i], test_game_dates[i], test_away[i],test_home[i],test_rounded_viewers[i]]\n",
    "d=pd.DataFrame.from_dict(final, orient='index', columns=[\"Season\", \"Game_ID\", \"Game_Date\", \"Away_Team\",  \"Home_Team\", \"Total_Viewers\"])\n",
    "d.to_csv(\"test_set_Sweet Skyhooks.csv\")"
   ]
  },
  {
   "cell_type": "code",
   "execution_count": null,
   "metadata": {
    "collapsed": true
   },
   "outputs": [],
   "source": []
  }
 ],
 "metadata": {
  "kernelspec": {
   "display_name": "Python 3",
   "language": "python",
   "name": "python3"
  },
  "language_info": {
   "codemirror_mode": {
    "name": "ipython",
    "version": 3
   },
   "file_extension": ".py",
   "mimetype": "text/x-python",
   "name": "python",
   "nbconvert_exporter": "python",
   "pygments_lexer": "ipython3",
   "version": "3.6.3"
  }
 },
 "nbformat": 4,
 "nbformat_minor": 2
}
